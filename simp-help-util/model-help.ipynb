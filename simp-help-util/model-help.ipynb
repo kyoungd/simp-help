{
 "cells": [
  {
   "cell_type": "code",
   "execution_count": 8,
   "id": "884c24fd",
   "metadata": {},
   "outputs": [],
   "source": [
    "import random\n",
    "import json\n",
    "import pickle\n",
    "import numpy as np\n",
    "import nltk\n",
    "from nltk.stem import WordNetLemmatizer\n",
    "from tensorflow.keras.models import load_model\n",
    "from flask import Flask, render_template, request"
   ]
  },
  {
   "cell_type": "code",
   "execution_count": 9,
   "id": "82fd6091",
   "metadata": {},
   "outputs": [],
   "source": [
    "# ----- Setup -----\n",
    "lemmatizer = WordNetLemmatizer()\n",
    "\n",
    "with open(\"intents.json\") as file:\n",
    "    data = json.load(file)\n",
    "\n",
    "words = pickle.load(open(\"words.pkl\", \"rb\"))\n",
    "topics = pickle.load(open(\"topics.pkl\", \"rb\"))\n",
    "model = load_model(r\"chatbot_Model.h5\")\n"
   ]
  },
  {
   "cell_type": "code",
   "execution_count": 10,
   "id": "c6434f25",
   "metadata": {},
   "outputs": [],
   "source": [
    "def clean_up_sentences(userString):\n",
    "    sentence = nltk.word_tokenize(userString)\n",
    "    sentence = [lemmatizer.lemmatize(word.lower()) for word in sentence]\n",
    "    return sentence\n"
   ]
  },
  {
   "cell_type": "code",
   "execution_count": 11,
   "id": "a5bd8217",
   "metadata": {},
   "outputs": [],
   "source": [
    "def bag_of_words(userString):\n",
    "    sentence = clean_up_sentences(userString)\n",
    "    bag = [0] * len(words)\n",
    "    for w in sentence:\n",
    "        for i, word in enumerate(words):\n",
    "            if word == w:\n",
    "                bag[i] = 1\n",
    "\n",
    "    return np.array(bag)"
   ]
  },
  {
   "cell_type": "code",
   "execution_count": 12,
   "id": "c98eb091",
   "metadata": {},
   "outputs": [],
   "source": [
    "def chatBot(userString):\n",
    "    try:\n",
    "        currentBag = bag_of_words(userString)\n",
    "        result = model.predict(np.array([currentBag]))[0]\n",
    "        # print(\"Result: \", result, \"\\n\")\n",
    "\n",
    "        # get the highest numerical value prediction\n",
    "        result_index = np.argmax(result)\n",
    "        # print(\"Highest Result Index: \", result_index, \"\\n\")\n",
    "\n",
    "        # get the topic associated to the highest numerical value prediction\n",
    "        topic = topics[result_index]\n",
    "\n",
    "        # IF: percentage is greater then 75%\n",
    "        if result[result_index] > 0.80:\n",
    "            # we grab the list of responds and choose one at random\n",
    "            for tg in data[\"intents\"]:\n",
    "                if tg[\"tag\"] == topic:\n",
    "                    responses = tg['responses']\n",
    "            return (random.choice(responses))\n",
    "\n",
    "        # ELSE: we print out a confused bot response\n",
    "        else:\n",
    "            return (\"Sorry, I didn' understand. Try asking again.\")\n",
    "    except Exception as e:\n",
    "        return (e)\n"
   ]
  },
  {
   "cell_type": "code",
   "execution_count": 13,
   "id": "0a12eef2",
   "metadata": {},
   "outputs": [
    {
     "data": {
      "text/plain": [
       "'Hi.  What can I do for you?'"
      ]
     },
     "execution_count": 13,
     "metadata": {},
     "output_type": "execute_result"
    }
   ],
   "source": [
    "chatBot('hello there, beautiful')"
   ]
  },
  {
   "cell_type": "code",
   "execution_count": 15,
   "id": "7eb1e34e",
   "metadata": {},
   "outputs": [],
   "source": [
    "app = Flask(__name__)\n",
    "\n",
    "@app.route(\"/help\", methods=[\"POST\"])\n",
    "def help_view():\n",
    "    message = request.json\n",
    "    q = message['question']\n",
    "    result = chatBot(q)\n",
    "    return { 'status': 'OK', 'data': result }\n"
   ]
  },
  {
   "cell_type": "code",
   "execution_count": null,
   "id": "b37cf89d",
   "metadata": {},
   "outputs": [
    {
     "name": "stdout",
     "output_type": "stream",
     "text": [
      " * Serving Flask app \"__main__\" (lazy loading)\n",
      " * Environment: production\n",
      "\u001b[31m   WARNING: This is a development server. Do not use it in a production deployment.\u001b[0m\n",
      "\u001b[2m   Use a production WSGI server instead.\u001b[0m\n",
      " * Debug mode: off\n"
     ]
    },
    {
     "name": "stderr",
     "output_type": "stream",
     "text": [
      " * Running on http://127.0.0.1:5001/ (Press CTRL+C to quit)\n",
      "127.0.0.1 - - [05/Feb/2022 11:27:19] \"\u001b[37mPOST /help HTTP/1.1\u001b[0m\" 200 -\n"
     ]
    }
   ],
   "source": [
    "app.run(port=5001)"
   ]
  },
  {
   "cell_type": "code",
   "execution_count": null,
   "id": "45e44c65",
   "metadata": {},
   "outputs": [],
   "source": [
    "http://127.0.0.1:5001/help"
   ]
  },
  {
   "cell_type": "code",
   "execution_count": null,
   "id": "35d9e4bd",
   "metadata": {},
   "outputs": [],
   "source": []
  }
 ],
 "metadata": {
  "kernelspec": {
   "display_name": "Python 3.8.5 64-bit",
   "language": "python",
   "name": "python385jvsc74a57bd031f2aee4e71d21fbe5cf8b01ff0e069b9275f58929596ceb00d14d90e3e16cd6"
  },
  "language_info": {
   "codemirror_mode": {
    "name": "ipython",
    "version": 3
   },
   "file_extension": ".py",
   "mimetype": "text/x-python",
   "name": "python",
   "nbconvert_exporter": "python",
   "pygments_lexer": "ipython3",
   "version": "3.8.10"
  }
 },
 "nbformat": 4,
 "nbformat_minor": 5
}
